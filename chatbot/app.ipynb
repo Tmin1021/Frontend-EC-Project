{
 "cells": [
  {
   "cell_type": "markdown",
   "id": "0e77aea9",
   "metadata": {},
   "source": [
    "# OpenRouter.ai demo"
   ]
  },
  {
   "cell_type": "code",
   "execution_count": 85,
   "id": "0861adc0",
   "metadata": {},
   "outputs": [],
   "source": [
    "import requests\n",
    "import json\n",
    "import os\n",
    "from dotenv import load_dotenv"
   ]
  },
  {
   "cell_type": "code",
   "execution_count": 86,
   "id": "e9edcc6a",
   "metadata": {},
   "outputs": [],
   "source": [
    "# Load environment variables from .env file\n",
    "load_dotenv()\n",
    "\n",
    "# Check if API key is set\n",
    "api_key = os.getenv('OPENROUTER_API_KEY_LLMA')\n",
    "if not api_key:\n",
    "    print(\"Error: OPENROUTER_API_KEY environment variable not set\")\n",
    "    exit(1)"
   ]
  },
  {
   "cell_type": "code",
   "execution_count": 87,
   "id": "1736ae6d",
   "metadata": {},
   "outputs": [],
   "source": [
    "response = requests.post(\n",
    "    url=\"https://openrouter.ai/api/v1/chat/completions\",\n",
    "    headers={\n",
    "        \"Authorization\": f\"Bearer {api_key}\",\n",
    "        \"Content-Type\": \"application/json\",\n",
    "        # \"HTTP-Referer\": \"https://your-site-url.com\",  # Optional\n",
    "        # \"X-Title\": \"Your Site Name\",  # Optional\n",
    "    },\n",
    "    data=json.dumps({\n",
    "        \"model\": \"deepseek/deepseek-r1-distill-llama-70b:free\",\n",
    "        \"messages\": [\n",
    "            {\n",
    "                \"role\": \"user\",\n",
    "                \"content\": \"What is the meaning of life?\"\n",
    "            }\n",
    "        ],\n",
    "    })\n",
    ")"
   ]
  },
  {
   "cell_type": "code",
   "execution_count": 88,
   "id": "36c0df3a",
   "metadata": {},
   "outputs": [],
   "source": [
    "response = requests.post(\n",
    "    url=\"https://openrouter.ai/api/v1/chat/completions\",\n",
    "    headers={\n",
    "        \"Authorization\": f\"Bearer {api_key}\",\n",
    "        \"Content-Type\": \"application/json\",\n",
    "        # \"HTTP-Referer\": \"https://your-site-url.com\",  # Optional\n",
    "        # \"X-Title\": \"Your Site Name\",  # Optional\n",
    "    },\n",
    "    data=json.dumps({\n",
    "        \"model\": \"meta-llama/llama-3.2-3b-instruct:free\",\n",
    "        \"messages\": [\n",
    "            {\n",
    "                \"role\": \"user\",\n",
    "                \"content\": \"What is the meaning of life?\"\n",
    "            }\n",
    "        ],\n",
    "    })\n",
    ")"
   ]
  },
  {
   "cell_type": "code",
   "execution_count": 89,
   "id": "44aae83b",
   "metadata": {},
   "outputs": [
    {
     "name": "stdout",
     "output_type": "stream",
     "text": [
      "Response: The question of the meaning of life is one of the most profound and enduring questions humanity has ever posed. It is a question that has been debated and explored by philosophers, theologians, scientists, and thinkers of all kinds across various cultures and civilizations.\n",
      "\n",
      "There is no one definitive answer to this question, as it is inherently subjective and can vary greatly depending on one's cultural background, personal beliefs, values, and experiences. That being said, here are some possible perspectives on the meaning of life:\n",
      "\n",
      "1. **Biological perspective**: From a purely biological standpoint, the meaning of life can be seen as simply to survive and reproduce, ensuring the continuation of one's genetic lineage. This view is based on the idea that the universe has no inherent purpose or direction, and that life is just a random process of energy and matter evolving and adapting.\n",
      "2. **Philosophical perspective**: Philosophers have long debated the nature of the meaning of life, with some arguing that it is an inherently meaningless concept. However, others have proposed various theories, such as existentialism (emphasis on individual freedom and choice), stoicism (emphasizing the importance of living in the present moment), or hedonism (seeking pleasure and happiness).\n",
      "3. **Religious perspective**: Many religious traditions provide their own answers to the question of the meaning of life, often tied to the divine or a higher power. For example, some faiths believe that the purpose of life is to fulfill a specified task or duty, while others see the meaning of life as union with the divine or achieving spiritual enlightenment.\n",
      "4. **Personal perspective**: Ultimately, the meaning of life may be found in individual experiences, relationships, and personal growth. For many people, the meaning of life is tied to love, connection, creativity, or pursuing their passions.\n",
      "5. **Nihilistic perspective**: Some individuals adopt a nihilistic view, arguing that life has no inherent meaning or purpose, and that we are simply floating in an indifferent universe.\n",
      "\n",
      "In conclusion, the meaning of life is a complex, multifaceted, and deeply personal question that may have different answers depending on one's perspective, values, and experiences.\n"
     ]
    }
   ],
   "source": [
    "# Check response deep-seek\n",
    "if response.status_code == 200:\n",
    "    try:\n",
    "        data = response.json()\n",
    "        print(\"Response:\", data['choices'][0]['message']['content'])\n",
    "    except (KeyError, ValueError) as e:\n",
    "        print(f\"Error parsing response: {e}\")\n",
    "else:\n",
    "    print(f\"Error: {response.status_code} - {response.text}\")"
   ]
  },
  {
   "cell_type": "code",
   "execution_count": 90,
   "id": "97805c33",
   "metadata": {},
   "outputs": [
    {
     "name": "stdout",
     "output_type": "stream",
     "text": [
      "Response: The question of the meaning of life is one of the most profound and enduring questions humanity has ever posed. It is a question that has been debated and explored by philosophers, theologians, scientists, and thinkers of all kinds across various cultures and civilizations.\n",
      "\n",
      "There is no one definitive answer to this question, as it is inherently subjective and can vary greatly depending on one's cultural background, personal beliefs, values, and experiences. That being said, here are some possible perspectives on the meaning of life:\n",
      "\n",
      "1. **Biological perspective**: From a purely biological standpoint, the meaning of life can be seen as simply to survive and reproduce, ensuring the continuation of one's genetic lineage. This view is based on the idea that the universe has no inherent purpose or direction, and that life is just a random process of energy and matter evolving and adapting.\n",
      "2. **Philosophical perspective**: Philosophers have long debated the nature of the meaning of life, with some arguing that it is an inherently meaningless concept. However, others have proposed various theories, such as existentialism (emphasis on individual freedom and choice), stoicism (emphasizing the importance of living in the present moment), or hedonism (seeking pleasure and happiness).\n",
      "3. **Religious perspective**: Many religious traditions provide their own answers to the question of the meaning of life, often tied to the divine or a higher power. For example, some faiths believe that the purpose of life is to fulfill a specified task or duty, while others see the meaning of life as union with the divine or achieving spiritual enlightenment.\n",
      "4. **Personal perspective**: Ultimately, the meaning of life may be found in individual experiences, relationships, and personal growth. For many people, the meaning of life is tied to love, connection, creativity, or pursuing their passions.\n",
      "5. **Nihilistic perspective**: Some individuals adopt a nihilistic view, arguing that life has no inherent meaning or purpose, and that we are simply floating in an indifferent universe.\n",
      "\n",
      "In conclusion, the meaning of life is a complex, multifaceted, and deeply personal question that may have different answers depending on one's perspective, values, and experiences.\n"
     ]
    }
   ],
   "source": [
    "# Check response llma\n",
    "if response.status_code == 200:\n",
    "    try:\n",
    "        data = response.json()\n",
    "        print(\"Response:\", data['choices'][0]['message']['content'])\n",
    "    except (KeyError, ValueError) as e:\n",
    "        print(f\"Error parsing response: {e}\")\n",
    "else:\n",
    "    print(f\"Error: {response.status_code} - {response.text}\")"
   ]
  },
  {
   "cell_type": "markdown",
   "id": "ddf0c7c7",
   "metadata": {},
   "source": [
    "# Data vectorization"
   ]
  },
  {
   "cell_type": "code",
   "execution_count": 91,
   "id": "f0da691f",
   "metadata": {},
   "outputs": [],
   "source": [
    "import json\n",
    "import faiss\n",
    "import numpy as np\n",
    "from sentence_transformers import SentenceTransformer"
   ]
  },
  {
   "cell_type": "code",
   "execution_count": 92,
   "id": "767d0678",
   "metadata": {},
   "outputs": [],
   "source": [
    "with open(\"shop_data.json\", \"r\", encoding=\"utf-8\") as f:\n",
    "    products = json.load(f)"
   ]
  },
  {
   "cell_type": "code",
   "execution_count": 93,
   "id": "b5071217",
   "metadata": {},
   "outputs": [
    {
     "data": {
      "text/plain": [
       "{'product_id': 'B1',\n",
       " 'type': 'flower',\n",
       " 'name': 'Red Rose Bouquet',\n",
       " 'price': 40,\n",
       " 'stock': 15,\n",
       " 'available': True,\n",
       " 'description': 'Assorted stems of seasonal roses.',\n",
       " 'description_detail': 'A classic bouquet of vibrant red roses, perfect for romantic occasions.',\n",
       " 'tip': 'Keep stems trimmed and water fresh daily.',\n",
       " 'caution': 'Avoid direct sunlight for prolonged periods.',\n",
       " 'image_url': ['demo_1', 'demo', 'demo_2', 'demo_3'],\n",
       " 'care': {'sun': 'Partial'},\n",
       " 'flower_details': {'occasion': ['Wedding'],\n",
       "  'color': ['Pink Flowers'],\n",
       "  'flower_type': 'Roses',\n",
       "  'options': [{'name': 'original', 'price': 19.99, 'stems': 5},\n",
       "   {'name': 'deluxe', 'price': 29.99, 'stems': 10},\n",
       "   {'name': 'grand', 'price': 39.99, 'stems': 15}],\n",
       "  'accessories': ['V1', 'V2']}}"
      ]
     },
     "execution_count": 93,
     "metadata": {},
     "output_type": "execute_result"
    }
   ],
   "source": [
    "products = products['products']\n",
    "products[0]"
   ]
  },
  {
   "cell_type": "code",
   "execution_count": 94,
   "id": "e361cf3d",
   "metadata": {},
   "outputs": [],
   "source": [
    "model = SentenceTransformer('all-MiniLM-L6-v2')"
   ]
  },
  {
   "cell_type": "code",
   "execution_count": 95,
   "id": "990e11bd",
   "metadata": {},
   "outputs": [],
   "source": [
    "def build_embedding_text(p: dict) -> str:\n",
    "    # Lấy danh sách options nếu có\n",
    "    options = p.get('flower_details', {}).get('options', [])\n",
    "    \n",
    "    if options:\n",
    "        prices = [opt.get('price') for opt in options if isinstance(opt.get('price'), (int, float))]\n",
    "        if prices:\n",
    "            min_price = min(prices)\n",
    "            max_price = max(prices)\n",
    "            price_text = f\"Price range: from {min_price} to {max_price} (optional).\"\n",
    "        else:\n",
    "            price_text = \"\"\n",
    "    else:\n",
    "        price_text = \"\"\n",
    "\n",
    "    # Tạo mô tả embedding\n",
    "    return f\"\"\"\n",
    "Name: {p['name']}\n",
    "Description: {p.get('description', '')}\n",
    "Detail Description: {p.get('description_detail', '')}\n",
    "Type: {p.get('flower_details', {}).get('flower_type', '')}\n",
    "Color: {', '.join(p.get('flower_details', {}).get('color', []))}\n",
    "Occasion: {', '.join(p.get('flower_details', {}).get('occasion', []))}\n",
    "Tip: {p.get('tip', '')}\n",
    "Caution: {p.get('caution', '')}\n",
    "Accessories: {', '.join(p.get('flower_details', {}).get('accessories', []))}\n",
    "{price_text}\n",
    "\"\"\".strip()\n"
   ]
  },
  {
   "cell_type": "code",
   "execution_count": 96,
   "id": "84b5d497",
   "metadata": {},
   "outputs": [],
   "source": [
    "# Chọn text để encode (tùy chỉnh theo nhu cầu)\n",
    "texts = [\n",
    "    build_embedding_text(p) for p in products\n",
    "]"
   ]
  },
  {
   "cell_type": "code",
   "execution_count": 97,
   "id": "f5908d50",
   "metadata": {},
   "outputs": [
    {
     "data": {
      "text/plain": [
       "'Name: Red Rose Bouquet\\nDescription: Assorted stems of seasonal roses.\\nDetail Description: A classic bouquet of vibrant red roses, perfect for romantic occasions.\\nType: Roses\\nColor: Pink Flowers\\nOccasion: Wedding\\nTip: Keep stems trimmed and water fresh daily.\\nCaution: Avoid direct sunlight for prolonged periods.\\nAccessories: V1, V2\\nPrice range: from 19.99 to 39.99 (optional).'"
      ]
     },
     "execution_count": 97,
     "metadata": {},
     "output_type": "execute_result"
    }
   ],
   "source": [
    "texts[0]"
   ]
  },
  {
   "cell_type": "code",
   "execution_count": 98,
   "id": "c829e919",
   "metadata": {},
   "outputs": [
    {
     "data": {
      "text/plain": [
       "['Name: Red Rose Bouquet\\nDescription: Assorted stems of seasonal roses.\\nDetail Description: A classic bouquet of vibrant red roses, perfect for romantic occasions.\\nType: Roses\\nColor: Pink Flowers\\nOccasion: Wedding\\nTip: Keep stems trimmed and water fresh daily.\\nCaution: Avoid direct sunlight for prolonged periods.\\nAccessories: V1, V2\\nPrice range: from 19.99 to 39.99 (optional).',\n",
       " \"Name: Farmer's Choice Peonies\\nDescription: Assorted stems of seasonal peonies.\\nDetail Description: A rustic mix of peonies, hand-picked for freshness.\\nType: Peonies\\nColor: White Flowers\\nOccasion: New Baby, Thank you\\nTip: Place in a cool area away from heat sources.\\nCaution: Petals are delicate; handle with care.\\nAccessories: V1, V2\\nPrice range: from 19.99 to 39.99 (optional).\",\n",
       " 'Name: Peony Bouquet\\nDescription: Beautiful peony flowers.\\nDetail Description: Lush peonies symbolizing prosperity and love.\\nType: Peonies\\nColor: Pink Flowers\\nOccasion: Wedding, Graduation\\nTip: Change water every two days for longevity.\\nCaution: Keep away from fruit to avoid ethylene gas exposure.\\nAccessories: V1, V2\\nPrice range: from 19.99 to 39.99 (optional).',\n",
       " 'Name: Sunflower Arrangement\\nDescription: Bright and cheerful sunflowers.\\nDetail Description: A sunny arrangement to brighten any day.\\nType: Sunflowers\\nColor: Yellow Flowers\\nOccasion: Thank you, Get Well\\nTip: Support stems with a tall vase.\\nCaution: Avoid overwatering.\\nAccessories: V1, V2\\nPrice range: from 15.99 to 35.99 (optional).',\n",
       " 'Name: Montecito Vase\\nDescription: A beautiful vase for your flowers.\\nDetail Description: Elegant glass vase with a sleek design.\\nType: \\nColor: \\nOccasion: \\nTip: Clean with mild soap to maintain clarity.\\nCaution: Fragile; handle with care.\\nAccessories:',\n",
       " 'Name: Montecitoss Vase\\nDescription: A beautiful vase for your flowers.\\nDetail Description: Stylish vase with a unique finish.\\nType: \\nColor: \\nOccasion: \\nTip: Fill with decorative stones for added stability.\\nCaution: Avoid abrasive cleaners.\\nAccessories:']"
      ]
     },
     "execution_count": 98,
     "metadata": {},
     "output_type": "execute_result"
    }
   ],
   "source": [
    "texts"
   ]
  },
  {
   "cell_type": "code",
   "execution_count": 99,
   "id": "be0a720c",
   "metadata": {},
   "outputs": [],
   "source": [
    "# Tạo embedding\n",
    "embeddings = model.encode(texts, convert_to_numpy=True)"
   ]
  },
  {
   "cell_type": "code",
   "execution_count": 100,
   "id": "4d3a57dd",
   "metadata": {},
   "outputs": [],
   "source": [
    "# Lưu vào FAISS\n",
    "index = faiss.IndexFlatL2(embeddings.shape[1])\n",
    "index.add(embeddings)"
   ]
  },
  {
   "cell_type": "code",
   "execution_count": 101,
   "id": "76d3b5f1",
   "metadata": {},
   "outputs": [],
   "source": [
    "# Lưu index và products\n",
    "faiss.write_index(index, \"faiss_index.index\")\n",
    "with open(\"product_texts.json\", \"w\", encoding=\"utf-8\") as f:\n",
    "    json.dump(texts, f, ensure_ascii=False)\n",
    "with open(\"product_data.json\", \"w\", encoding=\"utf-8\") as f:\n",
    "    json.dump(products, f, ensure_ascii=False)"
   ]
  },
  {
   "cell_type": "markdown",
   "id": "31f8a164",
   "metadata": {},
   "source": [
    "# Load the model and JSON data"
   ]
  },
  {
   "cell_type": "code",
   "execution_count": 103,
   "id": "0a9bded8",
   "metadata": {},
   "outputs": [],
   "source": [
    "# Load FAISS + dữ liệu\n",
    "model = SentenceTransformer('all-MiniLM-L6-v2')\n",
    "faiss_index = faiss.read_index(\"faiss_index.index\")"
   ]
  },
  {
   "cell_type": "code",
   "execution_count": 104,
   "id": "0259a550",
   "metadata": {},
   "outputs": [],
   "source": [
    "with open(\"product_data.json\", \"r\", encoding=\"utf-8\") as f:\n",
    "    product_data = json.load(f)\n",
    "with open(\"product_texts.json\", \"r\", encoding=\"utf-8\") as f:\n",
    "    product_texts = json.load(f)\n",
    "\n",
    "def semantic_search(query, top_k=3):\n",
    "    embedding = model.encode([query], convert_to_numpy=True)\n",
    "    distances, indices = faiss_index.search(embedding, top_k)\n",
    "    results = [product_data[i] for i in indices[0]]\n",
    "    return results"
   ]
  },
  {
   "cell_type": "code",
   "execution_count": 105,
   "id": "0b3a2919",
   "metadata": {},
   "outputs": [],
   "source": [
    "question = \"Please give me the price of the rosa\""
   ]
  },
  {
   "cell_type": "code",
   "execution_count": null,
   "id": "74bedad5",
   "metadata": {},
   "outputs": [
    {
     "data": {
      "text/plain": [
       "[{'product_id': 'B1',\n",
       "  'type': 'flower',\n",
       "  'name': 'Red Rose Bouquet',\n",
       "  'price': 40,\n",
       "  'stock': 15,\n",
       "  'available': True,\n",
       "  'description': 'Assorted stems of seasonal roses.',\n",
       "  'description_detail': 'A classic bouquet of vibrant red roses, perfect for romantic occasions.',\n",
       "  'tip': 'Keep stems trimmed and water fresh daily.',\n",
       "  'caution': 'Avoid direct sunlight for prolonged periods.',\n",
       "  'image_url': ['demo_1', 'demo', 'demo_2', 'demo_3'],\n",
       "  'care': {'sun': 'Partial'},\n",
       "  'flower_details': {'occasion': ['Wedding'],\n",
       "   'color': ['Pink Flowers'],\n",
       "   'flower_type': 'Roses',\n",
       "   'options': [{'name': 'original', 'price': 19.99, 'stems': 5},\n",
       "    {'name': 'deluxe', 'price': 29.99, 'stems': 10},\n",
       "    {'name': 'grand', 'price': 39.99, 'stems': 15}],\n",
       "   'accessories': ['V1', 'V2']}}]"
      ]
     },
     "execution_count": 106,
     "metadata": {},
     "output_type": "execute_result"
    }
   ],
   "source": [
    "semantic_search(question, 1)"
   ]
  },
  {
   "cell_type": "markdown",
   "id": "69109688",
   "metadata": {},
   "source": [
    "# Combine with the user request"
   ]
  },
  {
   "cell_type": "code",
   "execution_count": 151,
   "id": "22cef8d6",
   "metadata": {},
   "outputs": [],
   "source": [
    "def user_prompt_handler(user_message: str, k: int = 1) -> str:\n",
    "    \n",
    "    # Thay vì dùng regex, dùng semantic search\n",
    "    retrieved_products = semantic_search(user_message, k)\n",
    "    context_text = \"\\n\".join([json.dumps(p, ensure_ascii=False) for p in retrieved_products])\n",
    "\n",
    "    prompt_with_context = f\"\"\"\n",
    "You are an assistant that answers user questions based strictly on the provided data.\n",
    "\n",
    "[Shop Data]:\n",
    "{context_text}\n",
    "\n",
    "[User Question]:\n",
    "\"{user_message}\"\n",
    "\n",
    "[Instructions]:\n",
    "1. Only use facts and wording that appear exactly in the [Shop Data].\n",
    "2. Do not invent or assume anything not shown in the data.\n",
    "3. Do not add extra punctuation, currency symbols (like \"$\"), or any formatting not present in the original data.\n",
    "4. If the information is not found in the [Shop Data], respond exactly with: Data not found.\n",
    "5. Rephrase the response naturally, as if you are talking to a customer.\n",
    "6. List product names clearly, using '-' if there are multiple items.\n",
    "7. Do NOT use JSON or code format in your response. \n",
    "    \"\"\"\n",
    "\n",
    "    \n",
    "    return prompt_with_context"
   ]
  },
  {
   "cell_type": "code",
   "execution_count": 152,
   "id": "7b47b981",
   "metadata": {},
   "outputs": [
    {
     "data": {
      "text/plain": [
       "'\\nYou are an assistant that answers user questions based strictly on the provided data.\\n\\n[Shop Data]:\\n{\"product_id\": \"B1\", \"type\": \"flower\", \"name\": \"Red Rose Bouquet\", \"price\": 40, \"stock\": 15, \"available\": true, \"description\": \"Assorted stems of seasonal roses.\", \"description_detail\": \"A classic bouquet of vibrant red roses, perfect for romantic occasions.\", \"tip\": \"Keep stems trimmed and water fresh daily.\", \"caution\": \"Avoid direct sunlight for prolonged periods.\", \"image_url\": [\"demo_1\", \"demo\", \"demo_2\", \"demo_3\"], \"care\": {\"sun\": \"Partial\"}, \"flower_details\": {\"occasion\": [\"Wedding\"], \"color\": [\"Pink Flowers\"], \"flower_type\": \"Roses\", \"options\": [{\"name\": \"original\", \"price\": 19.99, \"stems\": 5}, {\"name\": \"deluxe\", \"price\": 29.99, \"stems\": 10}, {\"name\": \"grand\", \"price\": 39.99, \"stems\": 15}], \"accessories\": [\"V1\", \"V2\"]}}\\n{\"product_id\": \"B3\", \"type\": \"flower\", \"name\": \"Peony Bouquet\", \"price\": 40, \"stock\": 18, \"available\": true, \"description\": \"Beautiful peony flowers.\", \"description_detail\": \"Lush peonies symbolizing prosperity and love.\", \"tip\": \"Change water every two days for longevity.\", \"caution\": \"Keep away from fruit to avoid ethylene gas exposure.\", \"image_url\": [\"demo_5\"], \"care\": {\"sun\": \"Partial\"}, \"flower_details\": {\"occasion\": [\"Wedding\", \"Graduation\"], \"color\": [\"Pink Flowers\"], \"flower_type\": \"Peonies\", \"options\": [{\"name\": \"original\", \"price\": 19.99, \"stems\": 5}, {\"name\": \"deluxe\", \"price\": 29.99, \"stems\": 10}, {\"name\": \"grand\", \"price\": 39.99, \"stems\": 15}], \"accessories\": [\"V1\", \"V2\"]}}\\n\\n[User Question]:\\n\"Please provide me the price of the flower\"\\n\\n[Instructions]:\\n1. Only use facts and wording that appear exactly in the [Shop Data].\\n2. Do not invent or assume anything not shown in the data.\\n3. Do not add extra punctuation, currency symbols (like \"$\"), or any formatting not present in the original data.\\n4. If the information is not found in the [Shop Data], respond exactly with: Data not found.\\n5. Rephrase the response naturally, as if you are talking to a customer.\\n6. List product names clearly, using \\'-\\' if there are multiple items.\\n7. Do NOT use JSON or code format in your response. \\n    '"
      ]
     },
     "execution_count": 152,
     "metadata": {},
     "output_type": "execute_result"
    }
   ],
   "source": [
    "user_prompt_handler(\"Please provide me the price of the flower\", 2)"
   ]
  },
  {
   "cell_type": "markdown",
   "id": "b3f6155f",
   "metadata": {},
   "source": [
    "# Integrate with the Chatbot"
   ]
  },
  {
   "cell_type": "code",
   "execution_count": 153,
   "id": "2bffb19f",
   "metadata": {},
   "outputs": [],
   "source": [
    "import requests\n",
    "import json\n",
    "import os\n",
    "from dotenv import load_dotenv"
   ]
  },
  {
   "cell_type": "code",
   "execution_count": 154,
   "id": "fae75ff2",
   "metadata": {},
   "outputs": [],
   "source": [
    "# Load environment variables from .env file\n",
    "load_dotenv()\n",
    "\n",
    "# Check if API key is set\n",
    "api_key = os.getenv('OPENROUTER_API_KEY_LLMA')\n",
    "if not api_key:\n",
    "    print(\"Error: OPENROUTER_API_KEY environment variable not set\")\n",
    "    exit(1)"
   ]
  },
  {
   "cell_type": "code",
   "execution_count": 155,
   "id": "6d087cda",
   "metadata": {},
   "outputs": [],
   "source": [
    "def llm_response(user_message: str, k: int = 3):\n",
    "\n",
    "    response = requests.post(\n",
    "        url=\"https://openrouter.ai/api/v1/chat/completions\",\n",
    "        headers={\n",
    "            \"Authorization\": f\"Bearer {api_key}\",\n",
    "            \"Content-Type\": \"application/json\",\n",
    "            # \"HTTP-Referer\": \"https://your-site-url.com\",  # Optional\n",
    "            # \"X-Title\": \"Your Site Name\",  # Optional\n",
    "        },\n",
    "        data=json.dumps({\n",
    "            \"model\": \"deepseek/deepseek-r1-distill-llama-70b:free\",\n",
    "            \"messages\": [\n",
    "                {\n",
    "                    \"role\": \"user\",\n",
    "                    \"content\": f\"{user_prompt_handler(user_message, k)}\"\n",
    "                }\n",
    "            ],\n",
    "        })\n",
    "    )\n",
    "    return response"
   ]
  },
  {
   "cell_type": "code",
   "execution_count": 159,
   "id": "5b26b153",
   "metadata": {},
   "outputs": [],
   "source": [
    "user_message_price = \"Please give me the price of the Rose with grand version\""
   ]
  },
  {
   "cell_type": "code",
   "execution_count": 160,
   "id": "8c7bd45b",
   "metadata": {},
   "outputs": [],
   "source": [
    "user_message_list = \"Please give me some vase product\""
   ]
  },
  {
   "cell_type": "code",
   "execution_count": 163,
   "id": "0b5f68ad",
   "metadata": {},
   "outputs": [],
   "source": [
    "user_message_context = \"Help me to find flower for romantic scenario\""
   ]
  },
  {
   "cell_type": "code",
   "execution_count": 161,
   "id": "90187eee",
   "metadata": {},
   "outputs": [
    {
     "name": "stdout",
     "output_type": "stream",
     "text": [
      "Response: The price of the Red Rose Bouquet in the grand version is 39.99.\n"
     ]
    }
   ],
   "source": [
    "response = llm_response(user_message_price)\n",
    "\n",
    "# Check response deep-seek\n",
    "if response.status_code == 200:\n",
    "    try:\n",
    "        data = response.json()\n",
    "        print(\"Response:\", data['choices'][0]['message']['content'])\n",
    "    except (KeyError, ValueError) as e:\n",
    "        print(f\"Error parsing response: {e}\")\n",
    "else:\n",
    "    print(f\"Error: {response.status_code} - {response.text}\")"
   ]
  },
  {
   "cell_type": "code",
   "execution_count": 162,
   "id": "f2f2369c",
   "metadata": {},
   "outputs": [
    {
     "name": "stdout",
     "output_type": "stream",
     "text": [
      "Response: Here are some vase products available:\n",
      "\n",
      "- Montecito Vase - A beautiful vase for your flowers. Elegant glass vase with a sleek design. Price: 19, Stock: 12\n",
      "- Montecitoss Vase - A beautiful vase for your flowers. Stylish vase with a unique finish. Price: 25, Stock: 12\n",
      "\n",
      "Let me know if you need more details!\n"
     ]
    }
   ],
   "source": [
    "response = llm_response(user_message_list)\n",
    "\n",
    "# Check response deep-seek\n",
    "if response.status_code == 200:\n",
    "    try:\n",
    "        data = response.json()\n",
    "        print(\"Response:\", data['choices'][0]['message']['content'])\n",
    "    except (KeyError, ValueError) as e:\n",
    "        print(f\"Error parsing response: {e}\")\n",
    "else:\n",
    "    print(f\"Error: {response.status_code} - {response.text}\")"
   ]
  },
  {
   "cell_type": "code",
   "execution_count": 164,
   "id": "38a5d629",
   "metadata": {},
   "outputs": [
    {
     "name": "stdout",
     "output_type": "stream",
     "text": [
      "Response: Here are some flower suggestions suitable for romantic occasions:\n",
      "\n",
      "- Red Rose Bouquet (Product ID: B1) - Price: 40, Stock: 15, Description: A classic bouquet of vibrant red roses, perfect for romantic occasions, Flower Details: Color - Pink Flowers, Flower Type - Roses\n",
      "- Peony Bouquet (Product ID: B3) - Price: 40, Stock: 18, Description: Lush peonies symbolizing prosperity and love, Flower Details: Color - Pink Flowers, Flower Type - Peonies\n",
      "\n",
      "These options are available and perfect for romantic scenarios.\n"
     ]
    }
   ],
   "source": [
    "response = llm_response(user_message_context)\n",
    "\n",
    "# Check response deep-seek\n",
    "if response.status_code == 200:\n",
    "    try:\n",
    "        data = response.json()\n",
    "        print(\"Response:\", data['choices'][0]['message']['content'])\n",
    "    except (KeyError, ValueError) as e:\n",
    "        print(f\"Error parsing response: {e}\")\n",
    "else:\n",
    "    print(f\"Error: {response.status_code} - {response.text}\")"
   ]
  },
  {
   "cell_type": "code",
   "execution_count": 165,
   "id": "659ab175",
   "metadata": {},
   "outputs": [
    {
     "name": "stdout",
     "output_type": "stream",
     "text": [
      "Here are the vase products available:\n",
      "\n",
      "- Montecito Vase  \n",
      "  Price: 19  \n",
      "  Stock: 12  \n",
      "  Description: Elegant glass vase with a sleek design.  \n",
      "\n",
      "- Montecitoss Vase  \n",
      "  Price: 25  \n",
      "  Stock: 12  \n",
      "  Description: Stylish vase with a unique finish.  \n",
      "\n",
      "Let me know if you'd like more details!\n"
     ]
    }
   ],
   "source": [
    "print(\"Here are the vase products available:\\n\\n- Montecito Vase  \\n  Price: 19  \\n  Stock: 12  \\n  Description: Elegant glass vase with a sleek design.  \\n\\n- Montecitoss Vase  \\n  Price: 25  \\n  Stock: 12  \\n  Description: Stylish vase with a unique finish.  \\n\\nLet me know if you'd like more details!\")"
   ]
  },
  {
   "cell_type": "code",
   "execution_count": null,
   "id": "255ae649",
   "metadata": {},
   "outputs": [],
   "source": []
  }
 ],
 "metadata": {
  "kernelspec": {
   "display_name": "chatbot_env",
   "language": "python",
   "name": "python3"
  },
  "language_info": {
   "codemirror_mode": {
    "name": "ipython",
    "version": 3
   },
   "file_extension": ".py",
   "mimetype": "text/x-python",
   "name": "python",
   "nbconvert_exporter": "python",
   "pygments_lexer": "ipython3",
   "version": "3.8.20"
  }
 },
 "nbformat": 4,
 "nbformat_minor": 5
}
